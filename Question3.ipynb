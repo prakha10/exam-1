{
  "nbformat": 4,
  "nbformat_minor": 0,
  "metadata": {
    "colab": {
      "name": "Untitled16.ipynb",
      "provenance": [],
      "authorship_tag": "ABX9TyNclqH16bwe9kzbntDiWzd8",
      "include_colab_link": true
    },
    "kernelspec": {
      "name": "python3",
      "display_name": "Python 3"
    },
    "language_info": {
      "name": "python"
    }
  },
  "cells": [
    {
      "cell_type": "markdown",
      "metadata": {
        "id": "view-in-github",
        "colab_type": "text"
      },
      "source": [
        "<a href=\"https://colab.research.google.com/github/prakha10/exam-1/blob/main/Question3.ipynb\" target=\"_parent\"><img src=\"https://colab.research.google.com/assets/colab-badge.svg\" alt=\"Open In Colab\"/></a>"
      ]
    },
    {
      "cell_type": "markdown",
      "source": [
        "#Pratim Khadka\n",
        "#Spring 2022 Data Processing Visualization (CPSMA-4313-01)"
      ],
      "metadata": {
        "id": "2j2r7giGvXyi"
      }
    },
    {
      "cell_type": "markdown",
      "source": [
        "#a) Approximately how long did you work on this exam?\n",
        "#  I worked  approximately 2 hrs between data collection and typping the answers and checking the problems."
      ],
      "metadata": {
        "id": "pb4KLgNntgQ0"
      }
    },
    {
      "cell_type": "markdown",
      "source": [
        "#(b) Which was the hardest and easiest topic from this section?<br>\n",
        "#I think the easiest topic to answer was  creating the barcharts  of the ranges. it has alwasy been the topic in liked and has always found it easier to work.\n",
        "  "
      ],
      "metadata": {
        "id": "V08ZxR0ut9Rs"
      }
    },
    {
      "cell_type": "markdown",
      "source": [
        "#(c) Which method of gathering data are you most excited to use again?\n",
        "#I think the  method i would use is Stock overflow .I would like to use it as an oppertunitty to learn more and use it for my advantage."
      ],
      "metadata": {
        "id": "F84J49kIuhwg"
      }
    },
    {
      "cell_type": "markdown",
      "source": [
        "#“I attest that the resources above were the only ones utilized in completing\n",
        "#the exam and the work included is my own and no one else from the course.”\n"
      ],
      "metadata": {
        "id": "IpDFbIWNvF4C"
      }
    }
  ]
}